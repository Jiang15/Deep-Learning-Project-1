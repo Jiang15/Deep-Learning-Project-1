{
 "cells": [
  {
   "cell_type": "markdown",
   "metadata": {},
   "source": [
    "## Description"
   ]
  },
  {
   "cell_type": "markdown",
   "metadata": {},
   "source": [
    "The objective of this project is to test different architectures to compare two digits visible in a two-channel image. It aims at showing in particular the impact of weight sharing, and of the use of an auxiliary loss to help the training of the main objective. \n",
    "It should be implemented with PyTorch only code, in particular without using other external libraries such as scikit-learn or numpy."
   ]
  },
  {
   "cell_type": "markdown",
   "metadata": {},
   "source": [
    "The goal of this project is to implement a deep network such that, given as input a series of 2 ×14×14\n",
    "tensor, corresponding to pairs of 14 × 14 grayscale images, it predicts for each pair if the first digit is\n",
    "lesser or equal to the second."
   ]
  },
  {
   "cell_type": "code",
   "execution_count": 3,
   "metadata": {},
   "outputs": [],
   "source": [
    "import torch\n",
    "from torch import nn\n",
    "from torch import optim\n",
    "import torch.nn.functional as F\n",
    "from torch.utils.data import DataLoader\n",
    "from torch import Tensor as tensor\n",
    "from dlc_practical_prologue import generate_pair_sets\n",
    "\n",
    "from torchsummary import summary\n",
    "\n",
    "import matplotlib.pyplot as plt\n"
   ]
  },
  {
   "cell_type": "markdown",
   "metadata": {},
   "source": [
    "## Data"
   ]
  },
  {
   "cell_type": "markdown",
   "metadata": {},
   "source": [
    "The training and test set should be 1, 000 pairs each, and the size of the images allows to run\n",
    "experiments rapidly, even in the VM with a single core and no GPU.\n",
    "You can generate the data sets to use with the function generate_pair_sets(N) defined in the file\n",
    "dlc_practical_prologue.py."
   ]
  },
  {
   "cell_type": "code",
   "execution_count": 4,
   "metadata": {},
   "outputs": [],
   "source": [
    "N = 1000\n",
    "train_input, train_target, train_class, test_input, test_target, test_class = generate_pair_sets(N)"
   ]
  },
  {
   "cell_type": "code",
   "execution_count": 5,
   "metadata": {},
   "outputs": [
    {
     "data": {
      "image/png": "[encoded data removed]",
      "text/plain": [
       "<Figure size 432x288 with 2 Axes>"
      ]
     },
     "metadata": {
      "needs_background": "light"
     },
     "output_type": "display_data"
    }
   ],
   "source": [
    "fig, axs = plt.subplots(1, 2)\n",
    "axs[0].imshow(train_input[0][0], cmap=\"gray\")\n",
    "axs[0].set_title(f\"Class {train_class[0][0].item()}\")\n",
    "axs[1].imshow(train_input[0][1], cmap=\"gray\")\n",
    "axs[1].set_title(f\"Class {train_class[0][1].item()}\")\n",
    "fig.suptitle(f\"Target {train_target[0].item()}\")\n",
    "\n",
    "plt.show()"
   ]
  },
  {
   "cell_type": "code",
   "execution_count": 6,
   "metadata": {},
   "outputs": [],
   "source": [
    "# Data loaders\n",
    "batch_size = 100\n",
    "train_loader = DataLoader(list(zip(train_input, train_target, train_class)), batch_size)\n",
    "test_loader = DataLoader(list(zip(test_input, test_target, test_class)), batch_size)"
   ]
  },
  {
   "cell_type": "code",
   "execution_count": 16,
   "metadata": {},
   "outputs": [
    {
     "name": "stdout",
     "output_type": "stream",
     "text": [
      "torch.Size([100, 2, 14, 14])\n",
      "torch.Size([100, 2, 14, 14])\n",
      "torch.Size([100, 2, 14, 14])\n",
      "torch.Size([100, 2, 14, 14])\n",
      "torch.Size([100, 2, 14, 14])\n",
      "torch.Size([100, 2, 14, 14])\n",
      "torch.Size([100, 2, 14, 14])\n",
      "torch.Size([100, 2, 14, 14])\n",
      "torch.Size([100, 2, 14, 14])\n",
      "torch.Size([100, 2, 14, 14])\n"
     ]
    }
   ],
   "source": [
    "for i in train_loader:\n",
    "    print(i[0].size())"
   ]
  },
  {
   "cell_type": "markdown",
   "metadata": {},
   "source": [
    "## Model"
   ]
  },
  {
   "cell_type": "code",
   "execution_count": 26,
   "metadata": {},
   "outputs": [],
   "source": [
    "nb_channels = 2 # input channel\n",
    "nb_digits = 10 # number of digit classes\n",
    "nb_class = 2 # number of output classes\n",
    "\n",
    "cross_entropy = nn.CrossEntropyLoss()\n",
    "mse = nn.MSELoss()"
   ]
  },
  {
   "cell_type": "markdown",
   "metadata": {},
   "source": [
    "###  CNN model: No Auxiliary Loss"
   ]
  },
  {
   "cell_type": "code",
   "execution_count": 285,
   "metadata": {},
   "outputs": [],
   "source": [
    "class CNN(nn.Module):\n",
    "    def __init__(self, input_channels, output_channels):\n",
    "        super().__init__()\n",
    "        self.conv1 = nn.Conv2d(input_channels, 32, 3) \n",
    "        self.pool = nn.MaxPool2d(2,2) \n",
    "        self.conv2 = nn.Conv2d(32, 64, 3) \n",
    "        self.fc1 = nn.Linear(64 * 2 * 2, 50) \n",
    "        self.fc2 = nn.Linear(50, output_channels) #output\n",
    "\n",
    "    def forward(self, x):\n",
    "        x = self.pool(F.relu(self.conv1(x)))\n",
    "        x = self.pool(F.relu(self.conv2(x)))\n",
    "        x = x.view(-1, 64 * 2 * 2)        \n",
    "        x = F.relu(self.fc1(x))\n",
    "        x = self.fc2(x)\n",
    "        return x\n"
   ]
  },
  {
   "cell_type": "markdown",
   "metadata": {},
   "source": [
    "### CNN model: With Auxiliary Loss"
   ]
  },
  {
   "cell_type": "code",
   "execution_count": 286,
   "metadata": {},
   "outputs": [],
   "source": [
    "class CNN_AL(nn.Module):\n",
    "    def __init__(self, input_channels, output_channels, output_channels_aux):\n",
    "        super().__init__()\n",
    "        self.output_channels_aux = output_channels_aux\n",
    "        self.conv1 = nn.Conv2d(input_channels, 32, 3) \n",
    "        self.pool = nn.MaxPool2d(2,2) \n",
    "        self.conv2 = nn.Conv2d(32, 64, 3) \n",
    "        self.fc1 = nn.Linear(64 * 2 * 2, 50)\n",
    "        self.fc1_aux = nn.Linear(64 * 2, 50) \n",
    "        self.fc2 = nn.Linear(50, output_channels) #output\n",
    "        self.fc2_aux = nn.Linear(50, output_channels_aux)#output\n",
    "\n",
    "    def forward(self, x):\n",
    "        x = self.pool(F.relu(self.conv1(x)))\n",
    "        x = self.pool(F.relu(self.conv2(x)))\n",
    "        x_aux = x\n",
    "        x = x.view(-1, 64 * 2 * 2)\n",
    "        x_aux = x_aux.view(-1, 64 * 2)\n",
    "        x = F.relu(self.fc1(x))\n",
    "        x_aux = F.relu(self.fc1_aux(x_aux))\n",
    "        x = self.fc2(x)\n",
    "        x_aux = self.fc2_aux(x_aux)\n",
    "        return x, x_aux.reshape(2,-1,self.output_channels_aux)\n",
    "\n",
    "        \n",
    "    def predict(self, output_class):\n",
    "        _, predicted_class = torch.max(output_class, 1)\n",
    "        return predicted_class"
   ]
  },
  {
   "cell_type": "code",
   "execution_count": 287,
   "metadata": {
    "scrolled": true
   },
   "outputs": [
    {
     "name": "stdout",
     "output_type": "stream",
     "text": [
      "----------------------------------------------------------------\n",
      "        Layer (type)               Output Shape         Param #\n",
      "================================================================\n",
      "            Conv2d-1           [-1, 32, 12, 12]             608\n",
      "         MaxPool2d-2             [-1, 32, 6, 6]               0\n",
      "            Conv2d-3             [-1, 64, 4, 4]          18,496\n",
      "         MaxPool2d-4             [-1, 64, 2, 2]               0\n",
      "            Linear-5                   [-1, 50]          12,850\n",
      "            Linear-6                    [-1, 2]             102\n",
      "================================================================\n",
      "Total params: 32,056\n",
      "Trainable params: 32,056\n",
      "Non-trainable params: 0\n",
      "----------------------------------------------------------------\n",
      "Input size (MB): 0.00\n",
      "Forward/backward pass size (MB): 0.05\n",
      "Params size (MB): 0.12\n",
      "Estimated Total Size (MB): 0.18\n",
      "----------------------------------------------------------------\n",
      "----------------------------------------------------------------\n",
      "        Layer (type)               Output Shape         Param #\n",
      "================================================================\n",
      "            Conv2d-1           [-1, 32, 12, 12]             608\n",
      "         MaxPool2d-2             [-1, 32, 6, 6]               0\n",
      "            Conv2d-3             [-1, 64, 4, 4]          18,496\n",
      "         MaxPool2d-4             [-1, 64, 2, 2]               0\n",
      "            Linear-5                   [-1, 50]          12,850\n",
      "            Linear-6                   [-1, 50]           6,450\n",
      "            Linear-7                    [-1, 2]             102\n",
      "            Linear-8                   [-1, 10]             510\n",
      "================================================================\n",
      "Total params: 39,016\n",
      "Trainable params: 39,016\n",
      "Non-trainable params: 0\n",
      "----------------------------------------------------------------\n",
      "Input size (MB): 0.00\n",
      "Forward/backward pass size (MB): 0.05\n",
      "Params size (MB): 0.15\n",
      "Estimated Total Size (MB): 0.20\n",
      "----------------------------------------------------------------\n"
     ]
    }
   ],
   "source": [
    "CNN_model = CNN(nb_channels, nb_class)\n",
    "summary(CNN_model, input_size=(2, 14, 14))\n",
    "CNN_AL_model = CNN_AL(nb_channels, nb_class, nb_digits)\n",
    "summary(CNN_AL_model, input_size=(2, 14, 14))"
   ]
  },
  {
   "cell_type": "markdown",
   "metadata": {},
   "source": [
    "### Siamese Network"
   ]
  },
  {
   "cell_type": "code",
   "execution_count": 170,
   "metadata": {},
   "outputs": [],
   "source": [
    "class Siamese(nn.Module):\n",
    "    def __init__(self, input_channels, output_channels, weight_sharing_CNN, weight_sharing_FC , auxiliary_loss ):\n",
    "\n",
    "        super().__init__()\n",
    "        self.conv1 = nn.Conv2d(1, 32, 3)  \n",
    "        self.pool = nn.MaxPool2d(2,2) \n",
    "        self.conv2 = nn.Conv2d(32, 64, 3)\n",
    "        self.dropout = nn.Dropout2d(0.3) \n",
    "        self.fc1 = nn.Linear(64 * 2 * 2, 50) \n",
    "        self.fc2 = nn.Linear(50, nb_digits) #output\n",
    "        self.fc3 = nn.Linear(64*2*2*2, 100 )\n",
    "        self.fc4 = nn.Linear(100, 25)\n",
    "        self.fc5 = nn.Linear(25, 2)\n",
    "        self.fc6 = nn.Linear(10*2, 2)\n",
    "        self.CNNnet1 = nn.Sequential(self.conv1, nn.ReLU(), self.pool, self.dropout, self.conv2, nn.ReLU(), self.pool, self.dropout)\n",
    "        self.CNNnet2 = nn.Sequential(self.conv1, nn.ReLU(), self.pool, self.dropout, self.conv2, nn.ReLU(), self.pool, self.dropout)\n",
    "        self.FCnet1 = nn.Sequential(self.fc1, self.fc2)\n",
    "        self.FCnet2 = nn.Sequential(self.fc1, self.fc2)\n",
    "        \n",
    "    def forward(self, x):\n",
    "\n",
    "        if weight_sharing_CNN == True:\n",
    "            \n",
    "            y1 = self.CNNnet1(torch.unsqueeze(x[:,0],dim=1))\n",
    "            y2 = self.CNNnet1(torch.unsqueeze(x[:,1],dim=1))\n",
    "            \n",
    "        else:\n",
    "            y1 = self.CNNnet1(torch.unsqueeze(x[:,0],dim=1))\n",
    "            y2 = self.CNNnet2(torch.unsqueeze(x[:,1],dim=1)) \n",
    "            \n",
    "        y1 = y1.view(-1, 64 *2 *2) \n",
    "        y2 = y2.view(-1, 64 *2 *2)\n",
    "        y = torch.cat((y1, y2), dim = 1)\n",
    "        if weight_sharing_FC ==True:\n",
    "            y1 = self.FCnet1(y1)\n",
    "            #out1 = F.softmax(y1)\n",
    "            y2 = self.FCnet1(y2)\n",
    "            #out2 = F.softmax(y2)\n",
    "            \n",
    "        else:\n",
    "            y1 = self.FCnet1(y1)\n",
    "          #  out1 = F.softmax(y1)\n",
    "            y2 = self.FCnet2(y2)\n",
    "           # out2 = F.softmax(y2)\n",
    "            \n",
    "       \n",
    "        y = y.view(-1, 64*2*2*2)\n",
    "        y = self.fc3(y)\n",
    "        y = self.fc4(y)\n",
    "        y = self.fc5(y)\n",
    "        #y=self.fc6(y)\n",
    "        if auxiliary_loss == True:\n",
    "            return y1, y2, y\n",
    "        else:\n",
    "            return y"
   ]
  },
  {
   "cell_type": "code",
   "execution_count": 171,
   "metadata": {},
   "outputs": [
    {
     "name": "stdout",
     "output_type": "stream",
     "text": [
      "----------------------------------------------------------------\n",
      "        Layer (type)               Output Shape         Param #\n",
      "================================================================\n",
      "            Conv2d-1           [-1, 32, 12, 12]             320\n",
      "            Conv2d-2           [-1, 32, 12, 12]             320\n",
      "            Conv2d-3           [-1, 32, 12, 12]             320\n",
      "              ReLU-4           [-1, 32, 12, 12]               0\n",
      "         MaxPool2d-5             [-1, 32, 6, 6]               0\n",
      "         MaxPool2d-6             [-1, 32, 6, 6]               0\n",
      "         MaxPool2d-7             [-1, 32, 6, 6]               0\n",
      "         Dropout2d-8             [-1, 32, 6, 6]               0\n",
      "         Dropout2d-9             [-1, 32, 6, 6]               0\n",
      "        Dropout2d-10             [-1, 32, 6, 6]               0\n",
      "           Conv2d-11             [-1, 64, 4, 4]          18,496\n",
      "           Conv2d-12             [-1, 64, 4, 4]          18,496\n",
      "           Conv2d-13             [-1, 64, 4, 4]          18,496\n",
      "             ReLU-14             [-1, 64, 4, 4]               0\n",
      "        MaxPool2d-15             [-1, 64, 2, 2]               0\n",
      "        MaxPool2d-16             [-1, 64, 2, 2]               0\n",
      "        MaxPool2d-17             [-1, 64, 2, 2]               0\n",
      "        Dropout2d-18             [-1, 64, 2, 2]               0\n",
      "        Dropout2d-19             [-1, 64, 2, 2]               0\n",
      "        Dropout2d-20             [-1, 64, 2, 2]               0\n",
      "           Conv2d-21           [-1, 32, 12, 12]             320\n",
      "           Conv2d-22           [-1, 32, 12, 12]             320\n",
      "           Conv2d-23           [-1, 32, 12, 12]             320\n",
      "             ReLU-24           [-1, 32, 12, 12]               0\n",
      "        MaxPool2d-25             [-1, 32, 6, 6]               0\n",
      "        MaxPool2d-26             [-1, 32, 6, 6]               0\n",
      "        MaxPool2d-27             [-1, 32, 6, 6]               0\n",
      "        Dropout2d-28             [-1, 32, 6, 6]               0\n",
      "        Dropout2d-29             [-1, 32, 6, 6]               0\n",
      "        Dropout2d-30             [-1, 32, 6, 6]               0\n",
      "           Conv2d-31             [-1, 64, 4, 4]          18,496\n",
      "           Conv2d-32             [-1, 64, 4, 4]          18,496\n",
      "           Conv2d-33             [-1, 64, 4, 4]          18,496\n",
      "             ReLU-34             [-1, 64, 4, 4]               0\n",
      "        MaxPool2d-35             [-1, 64, 2, 2]               0\n",
      "        MaxPool2d-36             [-1, 64, 2, 2]               0\n",
      "        MaxPool2d-37             [-1, 64, 2, 2]               0\n",
      "        Dropout2d-38             [-1, 64, 2, 2]               0\n",
      "        Dropout2d-39             [-1, 64, 2, 2]               0\n",
      "        Dropout2d-40             [-1, 64, 2, 2]               0\n",
      "           Linear-41                   [-1, 50]          12,850\n",
      "           Linear-42                   [-1, 50]          12,850\n",
      "           Linear-43                   [-1, 50]          12,850\n",
      "           Linear-44                   [-1, 10]             510\n",
      "           Linear-45                   [-1, 10]             510\n",
      "           Linear-46                   [-1, 10]             510\n",
      "           Linear-47                   [-1, 50]          12,850\n",
      "           Linear-48                   [-1, 50]          12,850\n",
      "           Linear-49                   [-1, 50]          12,850\n",
      "           Linear-50                   [-1, 10]             510\n",
      "           Linear-51                   [-1, 10]             510\n",
      "           Linear-52                   [-1, 10]             510\n",
      "           Linear-53                  [-1, 100]          51,300\n",
      "           Linear-54                   [-1, 25]           2,525\n",
      "           Linear-55                    [-1, 2]              52\n",
      "================================================================\n",
      "Total params: 246,933\n",
      "Trainable params: 246,933\n",
      "Non-trainable params: 0\n",
      "----------------------------------------------------------------\n",
      "Input size (MB): 0.00\n",
      "Forward/backward pass size (MB): 0.48\n",
      "Params size (MB): 0.94\n",
      "Estimated Total Size (MB): 1.42\n",
      "----------------------------------------------------------------\n"
     ]
    }
   ],
   "source": [
    "Siamese_model = Siamese(nb_channels, nb_class, False, False, False)\n",
    "summary(Siamese_model, input_size=(2, 14, 14))"
   ]
  },
  {
   "cell_type": "code",
   "execution_count": 120,
   "metadata": {},
   "outputs": [],
   "source": [
    "def calc_accuracy(model, data_loader, AL):\n",
    "    correct = 0\n",
    "    correct_digit = 0\n",
    "    total = 0\n",
    "    \n",
    "    for (image, target, digit_target) in data_loader:\n",
    "\n",
    "        total += len(target)\n",
    "        if not AL:\n",
    "            output = model(image)\n",
    "        else:\n",
    "            digit1, digit2, output = model(image)\n",
    "        _, pred = torch.max(output, 1)\n",
    "        correct += (pred == target).sum().item()\n",
    "        return correct / total\n",
    "\n",
    "\n"
   ]
  },
  {
   "cell_type": "code",
   "execution_count": 179,
   "metadata": {},
   "outputs": [],
   "source": [
    "def train_Siamese(train_data_loader, test_data_loader,\n",
    "          model, optimizer, criterion,\n",
    "          epochs=10, test_every=1, auxiliary_loss = False):\n",
    "    \n",
    "    losses = []\n",
    "    accuracy_train = []\n",
    "    accuracy_test = []\n",
    "    accuracy_train_digit = []\n",
    "    accuracy_test_digit = []\n",
    "    \n",
    "    for epoch in range(epochs):\n",
    "        step = 0\n",
    "        \n",
    "        for (image, target, digit_target) in train_data_loader:\n",
    "            step += 1\n",
    "            optimizer.zero_grad()\n",
    "            if auxiliary_loss:\n",
    "                AL_weight = 0.5 # Auxiliary loss weights\n",
    "                out1, out2, y = model(image)\n",
    "           \n",
    "                loss = criterion(y, target)\n",
    "        \n",
    "                loss += AL_weight*criterion(out1,digit_target[:,0])\n",
    "                loss += AL_weight*criterion(out2, digit_target[:,1])\n",
    "\n",
    "            else:\n",
    "                output = model(image)\n",
    "                loss = criterion(output, target)\n",
    "            loss.backward()\n",
    "            optimizer.step()\n",
    "            \n",
    "            if step % test_every == 0:\n",
    "                losses.append(loss)\n",
    "                \n",
    "                model.eval()\n",
    "                with torch.no_grad():\n",
    "                    accuracy_train_data = calc_accuracy(model, train_data_loader, auxiliary_loss)\n",
    "                    accuracy_test_data = calc_accuracy(model, test_data_loader, auxiliary_loss)\n",
    "\n",
    "                    acc_train = accuracy_train_data\n",
    "                    acc_test = accuracy_test_data\n",
    "                        \n",
    "                    accuracy_train.append(acc_train)\n",
    "                    accuracy_test.append(acc_test)\n",
    "\n",
    "                print(f\"Epoch {epoch + 1}/{epochs}, Step {step}, loss {losses[-1]:0.4f},\",\n",
    "                      f\"train accuracy {accuracy_train[-1]}, test accuracy {accuracy_test[-1]}\")\n",
    "        \n",
    "    return accuracy_train, accuracy_test, losses"
   ]
  },
  {
   "cell_type": "code",
   "execution_count": 116,
   "metadata": {},
   "outputs": [
    {
     "name": "stderr",
     "output_type": "stream",
     "text": [
      "/home/wei/anaconda3/lib/python3.7/site-packages/ipykernel_launcher.py:39: UserWarning: Implicit dimension choice for softmax has been deprecated. Change the call to include dim=X as an argument.\n",
      "/home/wei/anaconda3/lib/python3.7/site-packages/ipykernel_launcher.py:40: UserWarning: Implicit dimension choice for softmax has been deprecated. Change the call to include dim=X as an argument.\n"
     ]
    },
    {
     "name": "stdout",
     "output_type": "stream",
     "text": [
      "Epoch 1/25, Step 5, loss 5.9533, train accuracy 0.58, test accuracy 0.54\n",
      "Epoch 1/25, Step 10, loss 1.3629, train accuracy 0.49, test accuracy 0.54\n",
      "Epoch 2/25, Step 5, loss 1.1748, train accuracy 0.63, test accuracy 0.69\n",
      "Epoch 2/25, Step 10, loss 0.8098, train accuracy 0.62, test accuracy 0.57\n",
      "Epoch 3/25, Step 5, loss 0.6553, train accuracy 0.64, test accuracy 0.61\n",
      "Epoch 3/25, Step 10, loss 0.6317, train accuracy 0.61, test accuracy 0.61\n",
      "Epoch 4/25, Step 5, loss 0.6179, train accuracy 0.62, test accuracy 0.71\n",
      "Epoch 4/25, Step 10, loss 0.5897, train accuracy 0.61, test accuracy 0.73\n",
      "Epoch 5/25, Step 5, loss 0.5954, train accuracy 0.61, test accuracy 0.73\n",
      "Epoch 5/25, Step 10, loss 0.5574, train accuracy 0.62, test accuracy 0.68\n",
      "Epoch 6/25, Step 5, loss 0.5617, train accuracy 0.65, test accuracy 0.66\n",
      "Epoch 6/25, Step 10, loss 0.5408, train accuracy 0.68, test accuracy 0.71\n",
      "Epoch 7/25, Step 5, loss 0.5659, train accuracy 0.68, test accuracy 0.7\n",
      "Epoch 7/25, Step 10, loss 0.5355, train accuracy 0.69, test accuracy 0.7\n",
      "Epoch 8/25, Step 5, loss 0.5462, train accuracy 0.69, test accuracy 0.72\n",
      "Epoch 8/25, Step 10, loss 0.5253, train accuracy 0.67, test accuracy 0.75\n",
      "Epoch 9/25, Step 5, loss 0.5496, train accuracy 0.69, test accuracy 0.71\n",
      "Epoch 9/25, Step 10, loss 0.5210, train accuracy 0.7, test accuracy 0.77\n",
      "Epoch 10/25, Step 5, loss 0.5381, train accuracy 0.67, test accuracy 0.73\n",
      "Epoch 10/25, Step 10, loss 0.5164, train accuracy 0.69, test accuracy 0.74\n",
      "Epoch 11/25, Step 5, loss 0.5373, train accuracy 0.67, test accuracy 0.72\n",
      "Epoch 11/25, Step 10, loss 0.5153, train accuracy 0.72, test accuracy 0.74\n",
      "Epoch 12/25, Step 5, loss 0.5312, train accuracy 0.71, test accuracy 0.74\n",
      "Epoch 12/25, Step 10, loss 0.5129, train accuracy 0.72, test accuracy 0.73\n",
      "Epoch 13/25, Step 5, loss 0.5211, train accuracy 0.7, test accuracy 0.74\n",
      "Epoch 13/25, Step 10, loss 0.5079, train accuracy 0.72, test accuracy 0.74\n",
      "Epoch 14/25, Step 5, loss 0.5148, train accuracy 0.68, test accuracy 0.74\n",
      "Epoch 14/25, Step 10, loss 0.5051, train accuracy 0.71, test accuracy 0.76\n",
      "Epoch 15/25, Step 5, loss 0.5118, train accuracy 0.68, test accuracy 0.73\n",
      "Epoch 15/25, Step 10, loss 0.5037, train accuracy 0.71, test accuracy 0.76\n",
      "Epoch 16/25, Step 5, loss 0.5115, train accuracy 0.7, test accuracy 0.71\n",
      "Epoch 16/25, Step 10, loss 0.5046, train accuracy 0.72, test accuracy 0.75\n",
      "Epoch 17/25, Step 5, loss 0.5156, train accuracy 0.7, test accuracy 0.74\n",
      "Epoch 17/25, Step 10, loss 0.5042, train accuracy 0.73, test accuracy 0.73\n",
      "Epoch 18/25, Step 5, loss 0.5129, train accuracy 0.7, test accuracy 0.74\n",
      "Epoch 18/25, Step 10, loss 0.5023, train accuracy 0.68, test accuracy 0.75\n",
      "Epoch 19/25, Step 5, loss 0.5083, train accuracy 0.69, test accuracy 0.7\n",
      "Epoch 19/25, Step 10, loss 0.5032, train accuracy 0.69, test accuracy 0.77\n",
      "Epoch 20/25, Step 5, loss 0.5160, train accuracy 0.7, test accuracy 0.73\n",
      "Epoch 20/25, Step 10, loss 0.5061, train accuracy 0.71, test accuracy 0.72\n",
      "Epoch 21/25, Step 5, loss 0.5146, train accuracy 0.71, test accuracy 0.71\n",
      "Epoch 21/25, Step 10, loss 0.5038, train accuracy 0.68, test accuracy 0.75\n",
      "Epoch 22/25, Step 5, loss 0.5091, train accuracy 0.7, test accuracy 0.68\n",
      "Epoch 22/25, Step 10, loss 0.5064, train accuracy 0.68, test accuracy 0.75\n",
      "Epoch 23/25, Step 5, loss 0.5161, train accuracy 0.7, test accuracy 0.71\n",
      "Epoch 23/25, Step 10, loss 0.5090, train accuracy 0.71, test accuracy 0.74\n",
      "Epoch 24/25, Step 5, loss 0.5137, train accuracy 0.73, test accuracy 0.68\n",
      "Epoch 24/25, Step 10, loss 0.5076, train accuracy 0.67, test accuracy 0.74\n",
      "Epoch 25/25, Step 5, loss 0.5097, train accuracy 0.69, test accuracy 0.7\n",
      "Epoch 25/25, Step 10, loss 0.5107, train accuracy 0.68, test accuracy 0.71\n"
     ]
    }
   ],
   "source": [
    "reg = 0.8\n",
    "lr = 0.001# Add learning rate decay\n",
    "epochs = 25\n",
    "weight_sharing_CNN = False\n",
    "weight_sharing_FC = False\n",
    "auxiliary_loss = False\n",
    "net = Siamese(nb_channels, nb_class, weight_sharing_CNN, weight_sharing_FC, auxiliary_loss)\n",
    "\n",
    "train_info = train_Siamese(train_loader, test_loader,\n",
    "                 model=net,\n",
    "                 optimizer=optim.Adam(net.parameters(), lr=lr, weight_decay=reg), \n",
    "                 criterion=cross_entropy,\n",
    "                 epochs=epochs, test_every=5, auxiliary_loss = auxiliary_loss)\n"
   ]
  },
  {
   "cell_type": "code",
   "execution_count": 109,
   "metadata": {},
   "outputs": [
    {
     "name": "stderr",
     "output_type": "stream",
     "text": [
      "/home/wei/anaconda3/lib/python3.7/site-packages/ipykernel_launcher.py:35: UserWarning: Implicit dimension choice for softmax has been deprecated. Change the call to include dim=X as an argument.\n",
      "/home/wei/anaconda3/lib/python3.7/site-packages/ipykernel_launcher.py:36: UserWarning: Implicit dimension choice for softmax has been deprecated. Change the call to include dim=X as an argument.\n"
     ]
    },
    {
     "name": "stdout",
     "output_type": "stream",
     "text": [
      "Epoch 1/25, Step 5, loss 6.9700, train accuracy 0.58, test accuracy 0.54 \n",
      "Epoch 1/25, Step 10, loss 0.9177, train accuracy 0.61, test accuracy 0.64 \n",
      "Epoch 2/25, Step 5, loss 1.2251, train accuracy 0.45, test accuracy 0.53 \n",
      "Epoch 2/25, Step 10, loss 0.6019, train accuracy 0.76, test accuracy 0.68 \n",
      "Epoch 3/25, Step 5, loss 0.5162, train accuracy 0.75, test accuracy 0.61 \n",
      "Epoch 3/25, Step 10, loss 0.6110, train accuracy 0.77, test accuracy 0.65 \n",
      "Epoch 4/25, Step 5, loss 0.4839, train accuracy 0.77, test accuracy 0.72 \n",
      "Epoch 4/25, Step 10, loss 0.5226, train accuracy 0.79, test accuracy 0.75 \n",
      "Epoch 5/25, Step 5, loss 0.4647, train accuracy 0.83, test accuracy 0.79 \n",
      "Epoch 5/25, Step 10, loss 0.4631, train accuracy 0.81, test accuracy 0.79 \n",
      "Epoch 6/25, Step 5, loss 0.4157, train accuracy 0.79, test accuracy 0.78 \n",
      "Epoch 6/25, Step 10, loss 0.4236, train accuracy 0.78, test accuracy 0.81 \n",
      "Epoch 7/25, Step 5, loss 0.3841, train accuracy 0.79, test accuracy 0.78 \n",
      "Epoch 7/25, Step 10, loss 0.3987, train accuracy 0.76, test accuracy 0.78 \n",
      "Epoch 8/25, Step 5, loss 0.3568, train accuracy 0.76, test accuracy 0.78 \n",
      "Epoch 8/25, Step 10, loss 0.3868, train accuracy 0.78, test accuracy 0.79 \n",
      "Epoch 9/25, Step 5, loss 0.3527, train accuracy 0.83, test accuracy 0.78 \n",
      "Epoch 9/25, Step 10, loss 0.3796, train accuracy 0.79, test accuracy 0.8 \n",
      "Epoch 10/25, Step 5, loss 0.3331, train accuracy 0.76, test accuracy 0.78 \n",
      "Epoch 10/25, Step 10, loss 0.3700, train accuracy 0.81, test accuracy 0.79 \n",
      "Epoch 11/25, Step 5, loss 0.3340, train accuracy 0.81, test accuracy 0.79 \n",
      "Epoch 11/25, Step 10, loss 0.3686, train accuracy 0.81, test accuracy 0.8 \n",
      "Epoch 12/25, Step 5, loss 0.3315, train accuracy 0.8, test accuracy 0.8 \n",
      "Epoch 12/25, Step 10, loss 0.3652, train accuracy 0.83, test accuracy 0.8 \n",
      "Epoch 13/25, Step 5, loss 0.3271, train accuracy 0.8, test accuracy 0.79 \n",
      "Epoch 13/25, Step 10, loss 0.3585, train accuracy 0.83, test accuracy 0.8 \n",
      "Epoch 14/25, Step 5, loss 0.3275, train accuracy 0.81, test accuracy 0.81 \n",
      "Epoch 14/25, Step 10, loss 0.3615, train accuracy 0.83, test accuracy 0.81 \n",
      "Epoch 15/25, Step 5, loss 0.3252, train accuracy 0.81, test accuracy 0.81 \n",
      "Epoch 15/25, Step 10, loss 0.3585, train accuracy 0.84, test accuracy 0.81 \n",
      "Epoch 16/25, Step 5, loss 0.3266, train accuracy 0.81, test accuracy 0.81 \n",
      "Epoch 16/25, Step 10, loss 0.3597, train accuracy 0.82, test accuracy 0.79 \n",
      "Epoch 17/25, Step 5, loss 0.3262, train accuracy 0.81, test accuracy 0.81 \n",
      "Epoch 17/25, Step 10, loss 0.3579, train accuracy 0.83, test accuracy 0.81 \n",
      "Epoch 18/25, Step 5, loss 0.3253, train accuracy 0.8, test accuracy 0.82 \n",
      "Epoch 18/25, Step 10, loss 0.3560, train accuracy 0.84, test accuracy 0.81 \n",
      "Epoch 19/25, Step 5, loss 0.3237, train accuracy 0.79, test accuracy 0.82 \n",
      "Epoch 19/25, Step 10, loss 0.3587, train accuracy 0.84, test accuracy 0.81 \n",
      "Epoch 20/25, Step 5, loss 0.3283, train accuracy 0.78, test accuracy 0.81 \n",
      "Epoch 20/25, Step 10, loss 0.3604, train accuracy 0.84, test accuracy 0.8 \n",
      "Epoch 21/25, Step 5, loss 0.3332, train accuracy 0.8, test accuracy 0.8 \n",
      "Epoch 21/25, Step 10, loss 0.3602, train accuracy 0.84, test accuracy 0.8 \n",
      "Epoch 22/25, Step 5, loss 0.3288, train accuracy 0.78, test accuracy 0.81 \n",
      "Epoch 22/25, Step 10, loss 0.3618, train accuracy 0.84, test accuracy 0.8 \n",
      "Epoch 23/25, Step 5, loss 0.3354, train accuracy 0.78, test accuracy 0.79 \n",
      "Epoch 23/25, Step 10, loss 0.3662, train accuracy 0.85, test accuracy 0.8 \n",
      "Epoch 24/25, Step 5, loss 0.3339, train accuracy 0.78, test accuracy 0.79 \n",
      "Epoch 24/25, Step 10, loss 0.3726, train accuracy 0.83, test accuracy 0.8 \n",
      "Epoch 25/25, Step 5, loss 0.3395, train accuracy 0.77, test accuracy 0.8 \n",
      "Epoch 25/25, Step 10, loss 0.3698, train accuracy 0.81, test accuracy 0.8 \n"
     ]
    }
   ],
   "source": [
    "reg = 0.8\n",
    "lr = 0.001# Add learning rate decay\n",
    "epochs = 25\n",
    "weight_sharing_CNN = True\n",
    "weight_sharing_FC =True\n",
    "auxiliary_loss = False\n",
    "net = Siamese(nb_channels, nb_class, weight_sharing_CNN, weight_sharing_FC, auxiliary_loss)\n",
    "\n",
    "train_info = train_Siamese(train_loader, test_loader,\n",
    "                 model=net,\n",
    "                 optimizer=optim.Adam(net.parameters(), lr=lr, weight_decay=reg), \n",
    "                 criterion=cross_entropy,\n",
    "                 epochs=epochs, test_every=5, auxiliary_loss = auxiliary_loss)\n"
   ]
  },
  {
   "cell_type": "code",
   "execution_count": 180,
   "metadata": {},
   "outputs": [
    {
     "name": "stdout",
     "output_type": "stream",
     "text": [
      "Epoch 1/25, Step 5, loss 16.4377, train accuracy 0.44, test accuracy 0.46\n",
      "Epoch 1/25, Step 10, loss 3.0100, train accuracy 0.59, test accuracy 0.6\n",
      "Epoch 2/25, Step 5, loss 2.6901, train accuracy 0.61, test accuracy 0.54\n",
      "Epoch 2/25, Step 10, loss 2.3695, train accuracy 0.62, test accuracy 0.63\n",
      "Epoch 3/25, Step 5, loss 2.2893, train accuracy 0.66, test accuracy 0.68\n",
      "Epoch 3/25, Step 10, loss 1.9364, train accuracy 0.71, test accuracy 0.66\n",
      "Epoch 4/25, Step 5, loss 1.7534, train accuracy 0.7, test accuracy 0.73\n",
      "Epoch 4/25, Step 10, loss 1.4433, train accuracy 0.68, test accuracy 0.73\n",
      "Epoch 5/25, Step 5, loss 1.4501, train accuracy 0.69, test accuracy 0.73\n",
      "Epoch 5/25, Step 10, loss 1.1629, train accuracy 0.74, test accuracy 0.74\n",
      "Epoch 6/25, Step 5, loss 1.2549, train accuracy 0.68, test accuracy 0.73\n",
      "Epoch 6/25, Step 10, loss 1.0621, train accuracy 0.72, test accuracy 0.75\n",
      "Epoch 7/25, Step 5, loss 1.1169, train accuracy 0.7, test accuracy 0.71\n",
      "Epoch 7/25, Step 10, loss 0.9807, train accuracy 0.75, test accuracy 0.78\n",
      "Epoch 8/25, Step 5, loss 1.0166, train accuracy 0.69, test accuracy 0.72\n",
      "Epoch 8/25, Step 10, loss 0.9091, train accuracy 0.74, test accuracy 0.75\n",
      "Epoch 9/25, Step 5, loss 0.9395, train accuracy 0.67, test accuracy 0.71\n",
      "Epoch 9/25, Step 10, loss 0.8475, train accuracy 0.75, test accuracy 0.77\n",
      "Epoch 10/25, Step 5, loss 0.9167, train accuracy 0.74, test accuracy 0.74\n",
      "Epoch 10/25, Step 10, loss 0.7992, train accuracy 0.77, test accuracy 0.81\n",
      "Epoch 11/25, Step 5, loss 0.8776, train accuracy 0.75, test accuracy 0.76\n",
      "Epoch 11/25, Step 10, loss 0.7790, train accuracy 0.77, test accuracy 0.8\n",
      "Epoch 12/25, Step 5, loss 0.8717, train accuracy 0.74, test accuracy 0.79\n",
      "Epoch 12/25, Step 10, loss 0.7629, train accuracy 0.79, test accuracy 0.82\n",
      "Epoch 13/25, Step 5, loss 0.8321, train accuracy 0.75, test accuracy 0.78\n",
      "Epoch 13/25, Step 10, loss 0.7461, train accuracy 0.78, test accuracy 0.81\n",
      "Epoch 14/25, Step 5, loss 0.8161, train accuracy 0.74, test accuracy 0.77\n",
      "Epoch 14/25, Step 10, loss 0.7264, train accuracy 0.77, test accuracy 0.81\n",
      "Epoch 15/25, Step 5, loss 0.7992, train accuracy 0.74, test accuracy 0.77\n",
      "Epoch 15/25, Step 10, loss 0.7126, train accuracy 0.78, test accuracy 0.8\n",
      "Epoch 16/25, Step 5, loss 0.7802, train accuracy 0.75, test accuracy 0.77\n",
      "Epoch 16/25, Step 10, loss 0.7215, train accuracy 0.78, test accuracy 0.8\n",
      "Epoch 17/25, Step 5, loss 0.7732, train accuracy 0.75, test accuracy 0.81\n",
      "Epoch 17/25, Step 10, loss 0.6797, train accuracy 0.79, test accuracy 0.8\n",
      "Epoch 18/25, Step 5, loss 0.7871, train accuracy 0.75, test accuracy 0.82\n",
      "Epoch 18/25, Step 10, loss 0.6761, train accuracy 0.79, test accuracy 0.81\n",
      "Epoch 19/25, Step 5, loss 0.7815, train accuracy 0.75, test accuracy 0.81\n",
      "Epoch 19/25, Step 10, loss 0.7106, train accuracy 0.79, test accuracy 0.77\n",
      "Epoch 20/25, Step 5, loss 0.7809, train accuracy 0.75, test accuracy 0.8\n",
      "Epoch 20/25, Step 10, loss 0.7061, train accuracy 0.79, test accuracy 0.83\n",
      "Epoch 21/25, Step 5, loss 0.7537, train accuracy 0.76, test accuracy 0.8\n",
      "Epoch 21/25, Step 10, loss 0.6683, train accuracy 0.79, test accuracy 0.83\n",
      "Epoch 22/25, Step 5, loss 0.7433, train accuracy 0.75, test accuracy 0.79\n",
      "Epoch 22/25, Step 10, loss 0.6656, train accuracy 0.78, test accuracy 0.8\n",
      "Epoch 23/25, Step 5, loss 0.7350, train accuracy 0.75, test accuracy 0.77\n",
      "Epoch 23/25, Step 10, loss 0.6608, train accuracy 0.78, test accuracy 0.81\n",
      "Epoch 24/25, Step 5, loss 0.7342, train accuracy 0.75, test accuracy 0.8\n",
      "Epoch 24/25, Step 10, loss 0.6422, train accuracy 0.81, test accuracy 0.8\n",
      "Epoch 25/25, Step 5, loss 0.7306, train accuracy 0.76, test accuracy 0.82\n",
      "Epoch 25/25, Step 10, loss 0.6390, train accuracy 0.82, test accuracy 0.8\n"
     ]
    }
   ],
   "source": [
    "reg = 0.8\n",
    "lr = 0.001# Add learning rate decay\n",
    "epochs = 25\n",
    "weight_sharing_CNN = False\n",
    "weight_sharing_FC = False\n",
    "auxiliary_loss = True\n",
    "net = Siamese(nb_channels, nb_class, weight_sharing_CNN, weight_sharing_FC, auxiliary_loss)\n",
    "\n",
    "train_info = train_Siamese(train_loader, test_loader,\n",
    "                 model=net,\n",
    "                 optimizer=optim.Adam(net.parameters(), lr=lr, weight_decay=reg), \n",
    "                 criterion=cross_entropy,\n",
    "                 epochs=epochs, test_every=5, auxiliary_loss = auxiliary_loss)\n"
   ]
  },
  {
   "cell_type": "markdown",
   "metadata": {},
   "source": [
    "## Training"
   ]
  },
  {
   "cell_type": "code",
   "execution_count": 111,
   "metadata": {},
   "outputs": [
    {
     "name": "stdout",
     "output_type": "stream",
     "text": [
      "cpu\n"
     ]
    }
   ],
   "source": [
    "device = torch.device(\"cuda:0\" if torch.cuda.is_available() else \"cpu\")\n",
    "print(device)"
   ]
  },
  {
   "cell_type": "code",
   "execution_count": 112,
   "metadata": {},
   "outputs": [],
   "source": [
    "def calc_accuracy(model, data_loader, AL):\n",
    "    correct = 0\n",
    "    correct_digit = 0\n",
    "    total = 0\n",
    "    \n",
    "    for (image, target, digit_target) in data_loader:\n",
    "\n",
    "        total += len(target)\n",
    "        if not AL:\n",
    "            output = model(image)\n",
    "            _, pred = torch.max(output, 1)\n",
    "            correct += (pred == target).sum().item()\n",
    "            return correct / total\n",
    "        else:\n",
    "            output, digit = model(image)\n",
    "            _, pred = torch.max(output, 1)\n",
    "            correct += (pred == target).sum().item()\n",
    "            _, pred_digit = torch.max(digit, 2)\n",
    "            correct_digit += (pred_digit[0,:] == digit_target[:,0]).sum().item()\n",
    "            correct_digit += (pred_digit[1,:] == digit_target[:,1]).sum().item()\n",
    "            return correct / total, correct_digit / total\n"
   ]
  },
  {
   "cell_type": "code",
   "execution_count": 288,
   "metadata": {},
   "outputs": [],
   "source": [
    "def train(train_data_loader, test_data_loader,\n",
    "          model, optimizer, criterion,\n",
    "          epochs=10, test_every=1, AL = False):\n",
    "    \n",
    "    losses = []\n",
    "    accuracy_train = []\n",
    "    accuracy_test = []\n",
    "    accuracy_train_digit = []\n",
    "    accuracy_test_digit = []\n",
    "    \n",
    "    for epoch in range(epochs):\n",
    "        step = 0\n",
    "        \n",
    "        for (image, target, digit_target) in train_data_loader:\n",
    "            step += 1\n",
    "\n",
    "            optimizer.zero_grad()\n",
    "            if AL:\n",
    "                AL_weight = 0. # Auxiliary loss weights\n",
    "                output, digit = model(image)\n",
    "                loss = criterion(output, target)\n",
    "                loss += AL_weight*criterion(tensor.float(digit[0,:]), digit_target[:,0])\n",
    "                loss += AL_weight*criterion(tensor.float(digit[1,:]), digit_target[:,1])\n",
    "\n",
    "            else:\n",
    "                output = model(image)\n",
    "                loss = criterion(output, target)\n",
    "            loss.backward()\n",
    "            optimizer.step()\n",
    "            \n",
    "            if step % test_every == 0:\n",
    "                losses.append(loss)\n",
    "                \n",
    "                model.eval()\n",
    "                with torch.no_grad():\n",
    "                    accuracy_train_data = calc_accuracy(model, train_data_loader, AL)\n",
    "                    accuracy_test_data = calc_accuracy(model, test_data_loader, AL)\n",
    "                    \n",
    "                    if AL:\n",
    "                        acc_train, acc_train_digit = accuracy_train_data\n",
    "                        acc_test, acc_test_digit = accuracy_test_data\n",
    "                        \n",
    "                        accuracy_train_digit.append(acc_train_digit)\n",
    "                        accuracy_test_digit.append(acc_test_digit)\n",
    "                    else:\n",
    "                        acc_train = accuracy_train_data\n",
    "                        acc_test = accuracy_test_data\n",
    "                        \n",
    "                    accuracy_train.append(acc_train)\n",
    "                    accuracy_test.append(acc_test)\n",
    "\n",
    "                print(f\"Epoch {epoch + 1}/{epochs}, Step {step}, loss {losses[-1]:0.4f},\",\n",
    "                      f\"train accuracy {accuracy_train[-1]}, test accuracy {accuracy_test[-1]}\",\n",
    "                      f\"train accuracy digit {accuracy_train_digit[-1]}, test accuracy digit {accuracy_test_digit[-1]}\"\n",
    "                      if accuracy_train_digit else \"\")\n",
    "        \n",
    "    return accuracy_train, accuracy_test, losses"
   ]
  },
  {
   "cell_type": "code",
   "execution_count": 292,
   "metadata": {},
   "outputs": [
    {
     "name": "stdout",
     "output_type": "stream",
     "text": [
      "Epoch 1/50, Step 5, loss 6.9871, train accuracy 0.46, test accuracy 0.49 train accuracy digit 0.21, test accuracy digit 0.21\n",
      "Epoch 1/50, Step 10, loss 4.2245, train accuracy 0.53, test accuracy 0.52 train accuracy digit 0.2, test accuracy digit 0.23\n",
      "Epoch 2/50, Step 5, loss 3.7923, train accuracy 0.6, test accuracy 0.54 train accuracy digit 0.26, test accuracy digit 0.18\n",
      "Epoch 2/50, Step 10, loss 3.4607, train accuracy 0.52, test accuracy 0.54 train accuracy digit 0.24, test accuracy digit 0.12\n",
      "Epoch 3/50, Step 5, loss 3.2496, train accuracy 0.6, test accuracy 0.54 train accuracy digit 0.15, test accuracy digit 0.12\n",
      "Epoch 3/50, Step 10, loss 2.9454, train accuracy 0.69, test accuracy 0.61 train accuracy digit 0.18, test accuracy digit 0.12\n",
      "Epoch 4/50, Step 5, loss 2.9889, train accuracy 0.65, test accuracy 0.65 train accuracy digit 0.27, test accuracy digit 0.15\n",
      "Epoch 4/50, Step 10, loss 2.8415, train accuracy 0.74, test accuracy 0.69 train accuracy digit 0.26, test accuracy digit 0.15\n",
      "Epoch 5/50, Step 5, loss 2.9510, train accuracy 0.7, test accuracy 0.65 train accuracy digit 0.3, test accuracy digit 0.15\n",
      "Epoch 5/50, Step 10, loss 2.8021, train accuracy 0.76, test accuracy 0.69 train accuracy digit 0.25, test accuracy digit 0.16\n",
      "Epoch 6/50, Step 5, loss 2.8934, train accuracy 0.74, test accuracy 0.68 train accuracy digit 0.26, test accuracy digit 0.18\n",
      "Epoch 6/50, Step 10, loss 2.7859, train accuracy 0.74, test accuracy 0.71 train accuracy digit 0.3, test accuracy digit 0.17\n",
      "Epoch 7/50, Step 5, loss 2.8628, train accuracy 0.76, test accuracy 0.69 train accuracy digit 0.3, test accuracy digit 0.2\n",
      "Epoch 7/50, Step 10, loss 2.7688, train accuracy 0.78, test accuracy 0.69 train accuracy digit 0.28, test accuracy digit 0.18\n",
      "Epoch 8/50, Step 5, loss 2.8566, train accuracy 0.81, test accuracy 0.69 train accuracy digit 0.25, test accuracy digit 0.2\n",
      "Epoch 8/50, Step 10, loss 2.7510, train accuracy 0.79, test accuracy 0.71 train accuracy digit 0.26, test accuracy digit 0.18\n",
      "Epoch 9/50, Step 5, loss 2.8547, train accuracy 0.84, test accuracy 0.7 train accuracy digit 0.25, test accuracy digit 0.19\n",
      "Epoch 9/50, Step 10, loss 2.7380, train accuracy 0.78, test accuracy 0.72 train accuracy digit 0.29, test accuracy digit 0.17\n",
      "Epoch 10/50, Step 5, loss 2.8496, train accuracy 0.85, test accuracy 0.69 train accuracy digit 0.28, test accuracy digit 0.18\n",
      "Epoch 10/50, Step 10, loss 2.7252, train accuracy 0.79, test accuracy 0.71 train accuracy digit 0.27, test accuracy digit 0.19\n",
      "Epoch 11/50, Step 5, loss 2.8462, train accuracy 0.84, test accuracy 0.68 train accuracy digit 0.27, test accuracy digit 0.22\n",
      "Epoch 11/50, Step 10, loss 2.7175, train accuracy 0.79, test accuracy 0.7 train accuracy digit 0.25, test accuracy digit 0.18\n",
      "Epoch 12/50, Step 5, loss 2.8307, train accuracy 0.85, test accuracy 0.68 train accuracy digit 0.26, test accuracy digit 0.17\n",
      "Epoch 12/50, Step 10, loss 2.7063, train accuracy 0.8, test accuracy 0.71 train accuracy digit 0.26, test accuracy digit 0.18\n",
      "Epoch 13/50, Step 5, loss 2.8237, train accuracy 0.83, test accuracy 0.69 train accuracy digit 0.27, test accuracy digit 0.2\n",
      "Epoch 13/50, Step 10, loss 2.6995, train accuracy 0.8, test accuracy 0.71 train accuracy digit 0.27, test accuracy digit 0.19\n",
      "Epoch 14/50, Step 5, loss 2.8186, train accuracy 0.82, test accuracy 0.7 train accuracy digit 0.26, test accuracy digit 0.19\n",
      "Epoch 14/50, Step 10, loss 2.6977, train accuracy 0.79, test accuracy 0.71 train accuracy digit 0.27, test accuracy digit 0.2\n",
      "Epoch 15/50, Step 5, loss 2.8148, train accuracy 0.78, test accuracy 0.7 train accuracy digit 0.26, test accuracy digit 0.19\n",
      "Epoch 15/50, Step 10, loss 2.6962, train accuracy 0.79, test accuracy 0.71 train accuracy digit 0.32, test accuracy digit 0.19\n",
      "Epoch 16/50, Step 5, loss 2.8113, train accuracy 0.79, test accuracy 0.71 train accuracy digit 0.27, test accuracy digit 0.21\n",
      "Epoch 16/50, Step 10, loss 2.6919, train accuracy 0.79, test accuracy 0.72 train accuracy digit 0.26, test accuracy digit 0.21\n",
      "Epoch 17/50, Step 5, loss 2.8086, train accuracy 0.78, test accuracy 0.72 train accuracy digit 0.25, test accuracy digit 0.21\n",
      "Epoch 17/50, Step 10, loss 2.6889, train accuracy 0.8, test accuracy 0.71 train accuracy digit 0.29, test accuracy digit 0.18\n",
      "Epoch 18/50, Step 5, loss 2.8016, train accuracy 0.76, test accuracy 0.71 train accuracy digit 0.24, test accuracy digit 0.23\n",
      "Epoch 18/50, Step 10, loss 2.6848, train accuracy 0.79, test accuracy 0.71 train accuracy digit 0.31, test accuracy digit 0.22\n",
      "Epoch 19/50, Step 5, loss 2.7963, train accuracy 0.76, test accuracy 0.71 train accuracy digit 0.26, test accuracy digit 0.25\n",
      "Epoch 19/50, Step 10, loss 2.6836, train accuracy 0.79, test accuracy 0.71 train accuracy digit 0.28, test accuracy digit 0.22\n",
      "Epoch 20/50, Step 5, loss 2.7909, train accuracy 0.75, test accuracy 0.71 train accuracy digit 0.28, test accuracy digit 0.27\n",
      "Epoch 20/50, Step 10, loss 2.6792, train accuracy 0.78, test accuracy 0.72 train accuracy digit 0.29, test accuracy digit 0.22\n",
      "Epoch 21/50, Step 5, loss 2.7804, train accuracy 0.76, test accuracy 0.72 train accuracy digit 0.24, test accuracy digit 0.27\n",
      "Epoch 21/50, Step 10, loss 2.6741, train accuracy 0.78, test accuracy 0.71 train accuracy digit 0.24, test accuracy digit 0.21\n",
      "Epoch 22/50, Step 5, loss 2.7822, train accuracy 0.77, test accuracy 0.71 train accuracy digit 0.23, test accuracy digit 0.24\n",
      "Epoch 22/50, Step 10, loss 2.6744, train accuracy 0.8, test accuracy 0.71 train accuracy digit 0.24, test accuracy digit 0.23\n",
      "Epoch 23/50, Step 5, loss 2.7857, train accuracy 0.77, test accuracy 0.73 train accuracy digit 0.23, test accuracy digit 0.24\n",
      "Epoch 23/50, Step 10, loss 2.6755, train accuracy 0.81, test accuracy 0.71 train accuracy digit 0.26, test accuracy digit 0.21\n",
      "Epoch 24/50, Step 5, loss 2.7824, train accuracy 0.77, test accuracy 0.72 train accuracy digit 0.23, test accuracy digit 0.24\n",
      "Epoch 24/50, Step 10, loss 2.6739, train accuracy 0.81, test accuracy 0.71 train accuracy digit 0.26, test accuracy digit 0.22\n",
      "Epoch 25/50, Step 5, loss 2.7856, train accuracy 0.78, test accuracy 0.72 train accuracy digit 0.24, test accuracy digit 0.22\n",
      "Epoch 25/50, Step 10, loss 2.6769, train accuracy 0.81, test accuracy 0.7 train accuracy digit 0.28, test accuracy digit 0.2\n",
      "Epoch 26/50, Step 5, loss 2.7843, train accuracy 0.77, test accuracy 0.71 train accuracy digit 0.26, test accuracy digit 0.23\n",
      "Epoch 26/50, Step 10, loss 2.6789, train accuracy 0.81, test accuracy 0.7 train accuracy digit 0.27, test accuracy digit 0.21\n",
      "Epoch 27/50, Step 5, loss 2.7841, train accuracy 0.8, test accuracy 0.72 train accuracy digit 0.23, test accuracy digit 0.22\n",
      "Epoch 27/50, Step 10, loss 2.6725, train accuracy 0.82, test accuracy 0.72 train accuracy digit 0.24, test accuracy digit 0.17\n",
      "Epoch 28/50, Step 5, loss 2.7789, train accuracy 0.8, test accuracy 0.71 train accuracy digit 0.26, test accuracy digit 0.22\n",
      "Epoch 28/50, Step 10, loss 2.6746, train accuracy 0.82, test accuracy 0.72 train accuracy digit 0.22, test accuracy digit 0.18\n",
      "Epoch 29/50, Step 5, loss 2.7796, train accuracy 0.79, test accuracy 0.7 train accuracy digit 0.24, test accuracy digit 0.2\n",
      "Epoch 29/50, Step 10, loss 2.6761, train accuracy 0.81, test accuracy 0.71 train accuracy digit 0.22, test accuracy digit 0.18\n",
      "Epoch 30/50, Step 5, loss 2.7864, train accuracy 0.79, test accuracy 0.71 train accuracy digit 0.24, test accuracy digit 0.21\n",
      "Epoch 30/50, Step 10, loss 2.6786, train accuracy 0.82, test accuracy 0.71 train accuracy digit 0.23, test accuracy digit 0.17\n",
      "Epoch 31/50, Step 5, loss 2.7871, train accuracy 0.79, test accuracy 0.71 train accuracy digit 0.23, test accuracy digit 0.19\n",
      "Epoch 31/50, Step 10, loss 2.6810, train accuracy 0.8, test accuracy 0.71 train accuracy digit 0.22, test accuracy digit 0.18\n",
      "Epoch 32/50, Step 5, loss 2.7916, train accuracy 0.77, test accuracy 0.71 train accuracy digit 0.22, test accuracy digit 0.19\n",
      "Epoch 32/50, Step 10, loss 2.6825, train accuracy 0.8, test accuracy 0.71 train accuracy digit 0.23, test accuracy digit 0.18\n",
      "Epoch 33/50, Step 5, loss 2.7902, train accuracy 0.76, test accuracy 0.72 train accuracy digit 0.21, test accuracy digit 0.19\n",
      "Epoch 33/50, Step 10, loss 2.6821, train accuracy 0.79, test accuracy 0.7 train accuracy digit 0.22, test accuracy digit 0.21\n",
      "Epoch 34/50, Step 5, loss 2.7819, train accuracy 0.76, test accuracy 0.71 train accuracy digit 0.22, test accuracy digit 0.17\n",
      "Epoch 34/50, Step 10, loss 2.6792, train accuracy 0.8, test accuracy 0.7 train accuracy digit 0.22, test accuracy digit 0.18\n",
      "Epoch 35/50, Step 5, loss 2.7673, train accuracy 0.76, test accuracy 0.72 train accuracy digit 0.22, test accuracy digit 0.18\n",
      "Epoch 35/50, Step 10, loss 2.6725, train accuracy 0.8, test accuracy 0.71 train accuracy digit 0.21, test accuracy digit 0.21\n",
      "Epoch 36/50, Step 5, loss 2.7549, train accuracy 0.78, test accuracy 0.73 train accuracy digit 0.21, test accuracy digit 0.18\n",
      "Epoch 36/50, Step 10, loss 2.6728, train accuracy 0.8, test accuracy 0.72 train accuracy digit 0.2, test accuracy digit 0.18\n",
      "Epoch 37/50, Step 5, loss 2.7442, train accuracy 0.8, test accuracy 0.71 train accuracy digit 0.2, test accuracy digit 0.14\n",
      "Epoch 37/50, Step 10, loss 2.6717, train accuracy 0.84, test accuracy 0.75 train accuracy digit 0.21, test accuracy digit 0.17\n",
      "Epoch 38/50, Step 5, loss 2.7458, train accuracy 0.79, test accuracy 0.7 train accuracy digit 0.22, test accuracy digit 0.16\n",
      "Epoch 38/50, Step 10, loss 2.6720, train accuracy 0.83, test accuracy 0.75 train accuracy digit 0.21, test accuracy digit 0.15\n",
      "Epoch 39/50, Step 5, loss 2.7504, train accuracy 0.8, test accuracy 0.71 train accuracy digit 0.21, test accuracy digit 0.14\n",
      "Epoch 39/50, Step 10, loss 2.6715, train accuracy 0.82, test accuracy 0.75 train accuracy digit 0.23, test accuracy digit 0.14\n",
      "Epoch 40/50, Step 5, loss 2.7580, train accuracy 0.8, test accuracy 0.71 train accuracy digit 0.21, test accuracy digit 0.16\n",
      "Epoch 40/50, Step 10, loss 2.6735, train accuracy 0.82, test accuracy 0.75 train accuracy digit 0.22, test accuracy digit 0.15\n",
      "Epoch 41/50, Step 5, loss 2.7675, train accuracy 0.8, test accuracy 0.72 train accuracy digit 0.2, test accuracy digit 0.17\n",
      "Epoch 41/50, Step 10, loss 2.6747, train accuracy 0.83, test accuracy 0.75 train accuracy digit 0.25, test accuracy digit 0.17\n",
      "Epoch 42/50, Step 5, loss 2.7737, train accuracy 0.8, test accuracy 0.7 train accuracy digit 0.21, test accuracy digit 0.17\n",
      "Epoch 42/50, Step 10, loss 2.6758, train accuracy 0.84, test accuracy 0.76 train accuracy digit 0.2, test accuracy digit 0.16\n",
      "Epoch 43/50, Step 5, loss 2.7735, train accuracy 0.8, test accuracy 0.73 train accuracy digit 0.21, test accuracy digit 0.17\n",
      "Epoch 43/50, Step 10, loss 2.6760, train accuracy 0.85, test accuracy 0.74 train accuracy digit 0.23, test accuracy digit 0.16\n",
      "Epoch 44/50, Step 5, loss 2.7758, train accuracy 0.81, test accuracy 0.74 train accuracy digit 0.23, test accuracy digit 0.15\n",
      "Epoch 44/50, Step 10, loss 2.6767, train accuracy 0.85, test accuracy 0.74 train accuracy digit 0.21, test accuracy digit 0.15\n",
      "Epoch 45/50, Step 5, loss 2.7756, train accuracy 0.8, test accuracy 0.75 train accuracy digit 0.23, test accuracy digit 0.16\n",
      "Epoch 45/50, Step 10, loss 2.6784, train accuracy 0.85, test accuracy 0.74 train accuracy digit 0.21, test accuracy digit 0.16\n",
      "Epoch 46/50, Step 5, loss 2.7807, train accuracy 0.8, test accuracy 0.74 train accuracy digit 0.23, test accuracy digit 0.16\n",
      "Epoch 46/50, Step 10, loss 2.6815, train accuracy 0.85, test accuracy 0.74 train accuracy digit 0.22, test accuracy digit 0.16\n",
      "Epoch 47/50, Step 5, loss 2.7835, train accuracy 0.8, test accuracy 0.74 train accuracy digit 0.24, test accuracy digit 0.15\n",
      "Epoch 47/50, Step 10, loss 2.6851, train accuracy 0.81, test accuracy 0.74 train accuracy digit 0.22, test accuracy digit 0.17\n",
      "Epoch 48/50, Step 5, loss 2.7947, train accuracy 0.81, test accuracy 0.72 train accuracy digit 0.24, test accuracy digit 0.15\n",
      "Epoch 48/50, Step 10, loss 2.6938, train accuracy 0.79, test accuracy 0.75 train accuracy digit 0.21, test accuracy digit 0.16\n",
      "Epoch 49/50, Step 5, loss 2.8048, train accuracy 0.79, test accuracy 0.73 train accuracy digit 0.24, test accuracy digit 0.16\n",
      "Epoch 49/50, Step 10, loss 2.7020, train accuracy 0.8, test accuracy 0.73 train accuracy digit 0.21, test accuracy digit 0.16\n",
      "Epoch 50/50, Step 5, loss 2.8142, train accuracy 0.79, test accuracy 0.75 train accuracy digit 0.22, test accuracy digit 0.2\n",
      "Epoch 50/50, Step 10, loss 2.7070, train accuracy 0.78, test accuracy 0.68 train accuracy digit 0.2, test accuracy digit 0.16\n"
     ]
    }
   ],
   "source": [
    "reg = 0.8\n",
    "lr = 0.001# Add learning rate decay\n",
    "epochs = 25\n",
    "net = CNN_AL(nb_channels, nb_class, nb_digits)\n",
    "net2 = CNN(nb_channels, nb_class)\n",
    "AL = True\n",
    "if AL: # with auxiliary loss\n",
    "    train_info = train(train_loader, test_loader,\n",
    "                     model=net,\n",
    "                     optimizer=optim.Adam(net.parameters(), lr=lr, weight_decay=reg), \n",
    "                     criterion=cross_entropy,\n",
    "                     epochs=epochs, test_every=5, AL = AL)\n",
    "else:\n",
    "    train_info = train(train_loader, test_loader,\n",
    "                 model=net2,\n",
    "                 optimizer=optim.Adam(net2.parameters(), lr=lr, weight_decay=reg), \n",
    "                 criterion=cross_entropy,\n",
    "                 epochs=epochs, test_every=5, AL= AL)"
   ]
  },
  {
   "cell_type": "code",
   "execution_count": 293,
   "metadata": {},
   "outputs": [],
   "source": [
    "accuracy_train, accuracy_test, losses = train_info"
   ]
  },
  {
   "cell_type": "code",
   "execution_count": 294,
   "metadata": {
    "scrolled": true
   },
   "outputs": [
    {
     "data": {
      "image/png": "[encoded data removed]",
      "text/plain": [
       "<Figure size 432x288 with 2 Axes>"
      ]
     },
     "metadata": {
      "needs_background": "light"
     },
     "output_type": "display_data"
    }
   ],
   "source": [
    "fig, ax1 = plt.subplots()\n",
    "\n",
    "color_tr = 'tab:green'\n",
    "color_val = 'tab:blue'\n",
    "ax1.set_xlabel(\"Step\")\n",
    "ax1.set_ylabel(\"Accuracy (train - green, validation - blue)\")\n",
    "ax1.plot(range(len(accuracy_train)), accuracy_train, color=color_tr)\n",
    "ax1.plot(range(len(accuracy_test)), accuracy_test, color=color_val)\n",
    "ax1.tick_params(axis='y')\n",
    "\n",
    "ax2 = ax1.twinx()  # instantiate a second axes that shares the same x-axis\n",
    "\n",
    "color_loss = 'tab:red'\n",
    "ax2.set_ylabel(\"Loss\", color=color_loss)  # we already handled the x-label with ax1\n",
    "ax2.plot(range(len(losses)), losses, color=color_loss)\n",
    "ax2.tick_params(axis='y', labelcolor=color_loss)\n",
    "\n",
    "fig.tight_layout()\n",
    "plt.grid()\n",
    "plt.show()"
   ]
  },
  {
   "cell_type": "code",
   "execution_count": null,
   "metadata": {},
   "outputs": [],
   "source": []
  },
  {
   "cell_type": "code",
   "execution_count": null,
   "metadata": {},
   "outputs": [],
   "source": []
  },
  {
   "cell_type": "markdown",
   "metadata": {},
   "source": [
    "## Experiments"
   ]
  },
  {
   "cell_type": "markdown",
   "metadata": {},
   "source": [
    "All the experiments should be done with 1, 000 pairs for training and test. A convnet with ∼ 70, 000\n",
    "parameters can be trained with 25 epochs in the VM in less than 2s and should achieve ∼ 15% error\n",
    "rate."
   ]
  },
  {
   "cell_type": "markdown",
   "metadata": {},
   "source": [
    "Performance estimates provided in your report should be estimated through 10+ rounds for each\n",
    "architecture, where both data and weight initialization are randomized, and you should provide estimates\n",
    "of standard deviations."
   ]
  },
  {
   "cell_type": "code",
   "execution_count": null,
   "metadata": {},
   "outputs": [],
   "source": []
  },
  {
   "cell_type": "code",
   "execution_count": null,
   "metadata": {},
   "outputs": [],
   "source": []
  },
  {
   "cell_type": "code",
   "execution_count": null,
   "metadata": {},
   "outputs": [],
   "source": []
  }
 ],
 "metadata": {
  "kernelspec": {
   "display_name": "Python 3",
   "language": "python",
   "name": "python3"
  },
  "language_info": {
   "codemirror_mode": {
    "name": "ipython",
    "version": 3
   },
   "file_extension": ".py",
   "mimetype": "text/x-python",
   "name": "python",
   "nbconvert_exporter": "python",
   "pygments_lexer": "ipython3",
   "version": "3.7.6"
  }
 },
 "nbformat": 4,
 "nbformat_minor": 4
}
