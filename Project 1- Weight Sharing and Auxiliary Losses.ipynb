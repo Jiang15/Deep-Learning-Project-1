{
 "cells": [
  {
   "cell_type": "markdown",
   "metadata": {},
   "source": [
    "## Description"
   ]
  },
  {
   "cell_type": "markdown",
   "metadata": {},
   "source": [
    "The objective of this project is to test different architectures to compare two digits visible in a two-channel image. It aims at showing in particular the impact of weight sharing, and of the use of an auxiliary loss to help the training of the main objective. \n",
    "It should be implemented with PyTorch only code, in particular without using other external libraries such as scikit-learn or numpy."
   ]
  },
  {
   "cell_type": "markdown",
   "metadata": {},
   "source": [
    "The goal of this project is to implement a deep network such that, given as input a series of 2 ×14×14\n",
    "tensor, corresponding to pairs of 14 × 14 grayscale images, it predicts for each pair if the first digit is\n",
    "lesser or equal to the second."
   ]
  },
  {
   "cell_type": "code",
   "execution_count": 4,
   "metadata": {},
   "outputs": [],
   "source": [
    "import torch\n",
    "from torch import nn\n",
    "from torch import optim\n",
    "import torch.nn.functional as F\n",
    "from torch.utils.data import DataLoader\n",
    "from torch import Tensor as tensor\n",
    "from dlc_practical_prologue import generate_pair_sets\n",
    "\n",
    "from torchsummary import summary\n",
    "\n",
    "import matplotlib.pyplot as plt\n"
   ]
  },
  {
   "cell_type": "markdown",
   "metadata": {},
   "source": [
    "## Data"
   ]
  },
  {
   "cell_type": "markdown",
   "metadata": {},
   "source": [
    "The training and test set should be 1, 000 pairs each, and the size of the images allows to run\n",
    "experiments rapidly, even in the VM with a single core and no GPU.\n",
    "You can generate the data sets to use with the function generate_pair_sets(N) defined in the file\n",
    "dlc_practical_prologue.py."
   ]
  },
  {
   "cell_type": "code",
   "execution_count": 5,
   "metadata": {},
   "outputs": [],
   "source": [
    "N = 1000\n",
    "train_input, train_target, train_class, test_input, test_target, test_class = generate_pair_sets(N)"
   ]
  },
  {
   "cell_type": "code",
   "execution_count": 6,
   "metadata": {},
   "outputs": [
    {
     "data": {
      "image/png": "[encoded data removed]",
      "text/plain": [
       "<Figure size 432x288 with 2 Axes>"
      ]
     },
     "metadata": {
      "needs_background": "light"
     },
     "output_type": "display_data"
    }
   ],
   "source": [
    "fig, axs = plt.subplots(1, 2)\n",
    "axs[0].imshow(train_input[0][0], cmap=\"gray\")\n",
    "axs[0].set_title(f\"Class {train_class[0][0].item()}\")\n",
    "axs[1].imshow(train_input[0][1], cmap=\"gray\")\n",
    "axs[1].set_title(f\"Class {train_class[0][1].item()}\")\n",
    "fig.suptitle(f\"Target {train_target[0].item()}\")\n",
    "\n",
    "plt.show()"
   ]
  },
  {
   "cell_type": "code",
   "execution_count": 41,
   "metadata": {},
   "outputs": [],
   "source": [
    "# Data loaders\n",
    "batch_size = 20\n",
    "train_loader = DataLoader(list(zip(train_input, train_target, train_class)), batch_size)\n",
    "test_loader = DataLoader(list(zip(test_input, test_target, test_class)), batch_size)"
   ]
  },
  {
   "cell_type": "markdown",
   "metadata": {},
   "source": [
    "## Model"
   ]
  },
  {
   "cell_type": "code",
   "execution_count": 42,
   "metadata": {},
   "outputs": [],
   "source": [
    "nb_channels = 2 # input channel\n",
    "nb_digits = 10 # number of digit classes\n",
    "nb_class = 2 # number of output classes\n",
    "\n",
    "cross_entropy = nn.CrossEntropyLoss()\n",
    "mse = nn.MSELoss()"
   ]
  },
  {
   "cell_type": "markdown",
   "metadata": {},
   "source": [
    "###  CNN model: No Auxiliary Loss"
   ]
  },
  {
   "cell_type": "code",
   "execution_count": 43,
   "metadata": {},
   "outputs": [],
   "source": [
    "class CNN(nn.Module):\n",
    "    def __init__(self, input_channels, output_channels):\n",
    "        super().__init__()\n",
    "        self.conv1 = nn.Conv2d(input_channels, 6, 3) \n",
    "        self.pool = nn.MaxPool2d(2,2) \n",
    "        self.conv2 = nn.Conv2d(6, 16, 3) \n",
    "        self.fc1 = nn.Linear(16 * 2 * 2, 50) \n",
    "        self.fc2 = nn.Linear(50, output_channels) #output\n",
    "\n",
    "    def forward(self, x):\n",
    "        x = self.pool(F.relu(self.conv1(x)))\n",
    "        x = self.pool(F.relu(self.conv2(x)))\n",
    "        x = x.view(-1, 16 * 2 * 2)        \n",
    "        x = F.relu(self.fc1(x))\n",
    "        x = self.fc2(x)\n",
    "        return x\n"
   ]
  },
  {
   "cell_type": "markdown",
   "metadata": {},
   "source": [
    "### CNN model: With Auxiliary Loss"
   ]
  },
  {
   "cell_type": "code",
   "execution_count": 44,
   "metadata": {},
   "outputs": [],
   "source": [
    "class CNN_AL(nn.Module):\n",
    "    def __init__(self, input_channels, output_channels, output_channels_aux):\n",
    "        super().__init__()\n",
    "        self.output_channels_aux = output_channels_aux\n",
    "        self.conv1 = nn.Conv2d(input_channels, 6, 3) \n",
    "        self.pool = nn.MaxPool2d(2,2) \n",
    "        self.conv2 = nn.Conv2d(6, 16, 3) \n",
    "        self.fc1 = nn.Linear(16 * 2 * 2, 50)\n",
    "        self.fc1_aux = nn.Linear(16 * 2, 50) \n",
    "        self.fc2 = nn.Linear(50, output_channels) #output\n",
    "        self.fc2_aux = nn.Linear(50, output_channels_aux)#output\n",
    "\n",
    "    def forward(self, x):\n",
    "        x = self.pool(F.relu(self.conv1(x)))\n",
    "        x = self.pool(F.relu(self.conv2(x)))\n",
    "        x_aux = x\n",
    "        x = x.view(-1, 16 * 2 * 2)\n",
    "        x_aux = x_aux.view(-1, 16 * 2)\n",
    "        x = F.relu(self.fc1(x))\n",
    "        x_aux = F.relu(self.fc1_aux(x_aux))\n",
    "        x = self.fc2(x)\n",
    "        x_aux = self.fc2_aux(x_aux)\n",
    "        return x, x_aux.reshape(2,-1,self.output_channels_aux)\n",
    "\n",
    "        \n",
    "    def predict(self, output_class):\n",
    "        _, predicted_class = torch.max(output_class, 1)\n",
    "        return predicted_class"
   ]
  },
  {
   "cell_type": "code",
   "execution_count": 45,
   "metadata": {
    "scrolled": true
   },
   "outputs": [
    {
     "name": "stdout",
     "output_type": "stream",
     "text": [
      "----------------------------------------------------------------\n",
      "        Layer (type)               Output Shape         Param #\n",
      "================================================================\n",
      "            Conv2d-1            [-1, 6, 12, 12]             114\n",
      "         MaxPool2d-2              [-1, 6, 6, 6]               0\n",
      "            Conv2d-3             [-1, 16, 4, 4]             880\n",
      "         MaxPool2d-4             [-1, 16, 2, 2]               0\n",
      "            Linear-5                   [-1, 50]           3,250\n",
      "            Linear-6                    [-1, 2]             102\n",
      "================================================================\n",
      "Total params: 4,346\n",
      "Trainable params: 4,346\n",
      "Non-trainable params: 0\n",
      "----------------------------------------------------------------\n",
      "Input size (MB): 0.00\n",
      "Forward/backward pass size (MB): 0.01\n",
      "Params size (MB): 0.02\n",
      "Estimated Total Size (MB): 0.03\n",
      "----------------------------------------------------------------\n",
      "----------------------------------------------------------------\n",
      "        Layer (type)               Output Shape         Param #\n",
      "================================================================\n",
      "            Conv2d-1            [-1, 6, 12, 12]             114\n",
      "         MaxPool2d-2              [-1, 6, 6, 6]               0\n",
      "            Conv2d-3             [-1, 16, 4, 4]             880\n",
      "         MaxPool2d-4             [-1, 16, 2, 2]               0\n",
      "            Linear-5                   [-1, 50]           3,250\n",
      "            Linear-6                   [-1, 50]           1,650\n",
      "            Linear-7                    [-1, 2]             102\n",
      "            Linear-8                   [-1, 10]             510\n",
      "================================================================\n",
      "Total params: 6,506\n",
      "Trainable params: 6,506\n",
      "Non-trainable params: 0\n",
      "----------------------------------------------------------------\n",
      "Input size (MB): 0.00\n",
      "Forward/backward pass size (MB): 0.01\n",
      "Params size (MB): 0.02\n",
      "Estimated Total Size (MB): 0.04\n",
      "----------------------------------------------------------------\n"
     ]
    }
   ],
   "source": [
    "CNN_model = CNN(nb_channels, nb_class)\n",
    "summary(CNN_model, input_size=(2, 14, 14))\n",
    "CNN_AL_model = CNN_AL(nb_channels, nb_class, nb_digits)\n",
    "summary(CNN_AL_model, input_size=(2, 14, 14))"
   ]
  },
  {
   "cell_type": "markdown",
   "metadata": {},
   "source": [
    "## Training"
   ]
  },
  {
   "cell_type": "code",
   "execution_count": 46,
   "metadata": {},
   "outputs": [
    {
     "name": "stdout",
     "output_type": "stream",
     "text": [
      "cpu\n"
     ]
    }
   ],
   "source": [
    "device = torch.device(\"cuda:0\" if torch.cuda.is_available() else \"cpu\")\n",
    "print(device)"
   ]
  },
  {
   "cell_type": "code",
   "execution_count": 60,
   "metadata": {},
   "outputs": [],
   "source": [
    "def calc_accuracy(model, data_loader, AL):\n",
    "    correct = 0\n",
    "    correct_digit = 0\n",
    "    total = 0\n",
    "    \n",
    "    for (image, target, digit_target) in data_loader:\n",
    "\n",
    "        total += len(target)\n",
    "        if not AL:\n",
    "            output = model(image)\n",
    "            _, pred = torch.max(output, 1)\n",
    "            correct += (pred == target).sum().item()\n",
    "            return correct / total\n",
    "        else:\n",
    "            output, digit = model(image)\n",
    "            _, pred = torch.max(output, 1)\n",
    "            correct += (pred == target).sum().item()\n",
    "            _, pred_digit = torch.max(digit, 2)\n",
    "            correct_digit += (pred_digit[0,:] == digit_target[:,0]).sum().item()\n",
    "            correct_digit += (pred_digit[1,:] == digit_target[:,1]).sum().item()\n",
    "            return correct / total, correct_digit / total\n"
   ]
  },
  {
   "cell_type": "code",
   "execution_count": 61,
   "metadata": {},
   "outputs": [],
   "source": [
    "def train(train_data_loader, test_data_loader,\n",
    "          model, optimizer, criterion,\n",
    "          epochs=10, test_every=10, AL = False):\n",
    "    \n",
    "    losses = []\n",
    "    accuracy_train = []\n",
    "    accuracy_test = []\n",
    "    accuracy_train_digit = []\n",
    "    accuracy_test_digit = []\n",
    "    \n",
    "    for epoch in range(epochs):\n",
    "        step = 0\n",
    "        \n",
    "        for (image, target, digit_target) in train_data_loader:\n",
    "            step += 1\n",
    "\n",
    "            optimizer.zero_grad()\n",
    "            if AL:\n",
    "                output, digit = model(image)\n",
    "                loss = criterion(output, target)\n",
    "                loss += criterion(tensor.float(digit[0,:]), digit_target[:,0])\n",
    "                loss += criterion(tensor.float(digit[1,:]), digit_target[:,1])\n",
    "\n",
    "            else:\n",
    "                output = model(image)\n",
    "                loss = criterion(output, target)\n",
    "            loss.backward()\n",
    "            optimizer.step()\n",
    "            \n",
    "            if step % test_every == 0:\n",
    "                losses.append(loss)\n",
    "                \n",
    "                model.eval()\n",
    "                with torch.no_grad():\n",
    "                    accuracy_train_data = calc_accuracy(model, train_data_loader, AL)\n",
    "                    accuracy_test_data = calc_accuracy(model, test_data_loader, AL)\n",
    "                    \n",
    "                    if AL:\n",
    "                        acc_train, acc_train_digit = accuracy_train_data\n",
    "                        acc_test, acc_test_digit = accuracy_test_data\n",
    "                        \n",
    "                        accuracy_train_digit.append(acc_train_digit)\n",
    "                        accuracy_test_digit.append(acc_test_digit)\n",
    "                    else:\n",
    "                        acc_train = accuracy_train_data\n",
    "                        acc_test = accuracy_test_data\n",
    "                        \n",
    "                    accuracy_train.append(acc_train)\n",
    "                    accuracy_test.append(acc_test)\n",
    "\n",
    "        print(f\"Epoch {epoch + 1}/{epochs}, Step {step}, loss {losses[-1]:0.4f},\",\n",
    "              f\"train accuracy {accuracy_train[-1]}, test accuracy {accuracy_test[-1]}\",\n",
    "              f\"train accuracy digit {accuracy_train_digit[-1]}, test accuracy digit {accuracy_test_digit[-1]}\"\n",
    "              if accuracy_train_digit else \"\")\n",
    "        \n",
    "    return accuracy_train, accuracy_test, losses"
   ]
  },
  {
   "cell_type": "code",
   "execution_count": 101,
   "metadata": {},
   "outputs": [
    {
     "name": "stdout",
     "output_type": "stream",
     "text": [
      "Epoch 1/25, Step 50, loss 9.8813, train accuracy 0.45, test accuracy 0.5 train accuracy digit 0.25, test accuracy digit 0.15\n",
      "Epoch 2/25, Step 50, loss 6.9585, train accuracy 0.4, test accuracy 0.55 train accuracy digit 0.2, test accuracy digit 0.1\n",
      "Epoch 3/25, Step 50, loss 6.2650, train accuracy 0.3, test accuracy 0.55 train accuracy digit 0.2, test accuracy digit 0.1\n",
      "Epoch 4/25, Step 50, loss 5.8612, train accuracy 0.3, test accuracy 0.65 train accuracy digit 0.25, test accuracy digit 0.1\n",
      "Epoch 5/25, Step 50, loss 5.6052, train accuracy 0.25, test accuracy 0.7 train accuracy digit 0.3, test accuracy digit 0.15\n",
      "Epoch 6/25, Step 50, loss 5.4464, train accuracy 0.3, test accuracy 0.75 train accuracy digit 0.3, test accuracy digit 0.2\n",
      "Epoch 7/25, Step 50, loss 5.3170, train accuracy 0.3, test accuracy 0.75 train accuracy digit 0.3, test accuracy digit 0.2\n",
      "Epoch 8/25, Step 50, loss 5.2454, train accuracy 0.35, test accuracy 0.75 train accuracy digit 0.3, test accuracy digit 0.2\n",
      "Epoch 9/25, Step 50, loss 5.1906, train accuracy 0.35, test accuracy 0.75 train accuracy digit 0.35, test accuracy digit 0.2\n",
      "Epoch 10/25, Step 50, loss 5.1497, train accuracy 0.45, test accuracy 0.75 train accuracy digit 0.35, test accuracy digit 0.15\n",
      "Epoch 11/25, Step 50, loss 5.1099, train accuracy 0.45, test accuracy 0.75 train accuracy digit 0.35, test accuracy digit 0.15\n",
      "Epoch 12/25, Step 50, loss 5.0808, train accuracy 0.45, test accuracy 0.75 train accuracy digit 0.3, test accuracy digit 0.15\n",
      "Epoch 13/25, Step 50, loss 5.0615, train accuracy 0.5, test accuracy 0.8 train accuracy digit 0.2, test accuracy digit 0.15\n",
      "Epoch 14/25, Step 50, loss 5.0442, train accuracy 0.55, test accuracy 0.8 train accuracy digit 0.2, test accuracy digit 0.15\n",
      "Epoch 15/25, Step 50, loss 5.0291, train accuracy 0.6, test accuracy 0.7 train accuracy digit 0.15, test accuracy digit 0.15\n",
      "Epoch 16/25, Step 50, loss 5.0171, train accuracy 0.6, test accuracy 0.7 train accuracy digit 0.15, test accuracy digit 0.2\n",
      "Epoch 17/25, Step 50, loss 5.0057, train accuracy 0.6, test accuracy 0.7 train accuracy digit 0.15, test accuracy digit 0.25\n",
      "Epoch 18/25, Step 50, loss 4.9954, train accuracy 0.6, test accuracy 0.75 train accuracy digit 0.2, test accuracy digit 0.25\n",
      "Epoch 19/25, Step 50, loss 4.9862, train accuracy 0.6, test accuracy 0.75 train accuracy digit 0.2, test accuracy digit 0.3\n",
      "Epoch 20/25, Step 50, loss 4.9815, train accuracy 0.6, test accuracy 0.75 train accuracy digit 0.15, test accuracy digit 0.3\n",
      "Epoch 21/25, Step 50, loss 4.9790, train accuracy 0.6, test accuracy 0.75 train accuracy digit 0.15, test accuracy digit 0.3\n",
      "Epoch 22/25, Step 50, loss 4.9791, train accuracy 0.6, test accuracy 0.75 train accuracy digit 0.15, test accuracy digit 0.3\n",
      "Epoch 23/25, Step 50, loss 4.9763, train accuracy 0.6, test accuracy 0.75 train accuracy digit 0.15, test accuracy digit 0.3\n",
      "Epoch 24/25, Step 50, loss 4.9743, train accuracy 0.6, test accuracy 0.75 train accuracy digit 0.15, test accuracy digit 0.3\n",
      "Epoch 25/25, Step 50, loss 4.9698, train accuracy 0.6, test accuracy 0.75 train accuracy digit 0.15, test accuracy digit 0.3\n"
     ]
    }
   ],
   "source": [
    "reg = 0.8\n",
    "lr = 0.0003 # Add learning rate decay\n",
    "epochs = 25\n",
    "net = CNN_AL(nb_channels, nb_class, nb_digits)\n",
    "net2 = CNN(nb_channels, nb_class)\n",
    "\n",
    "train_info = train(train_loader, test_loader,\n",
    "             model=net,\n",
    "             optimizer=optim.Adam(net.parameters(), lr=lr, weight_decay=reg), \n",
    "             criterion=cross_entropy,\n",
    "             epochs=epochs, test_every=2, AL = True)\n",
    "# train_info = train(train_loader, test_loader,\n",
    "#              model=net2,\n",
    "#              optimizer=optim.Adam(net2.parameters(), lr=lr, weight_decay=reg), \n",
    "#              criterion=cross_entropy,\n",
    "#              epochs=epochs, test_every=2, AL = False)"
   ]
  },
  {
   "cell_type": "code",
   "execution_count": 98,
   "metadata": {},
   "outputs": [],
   "source": [
    "accuracy_train, accuracy_test, losses = train_info"
   ]
  },
  {
   "cell_type": "code",
   "execution_count": 99,
   "metadata": {},
   "outputs": [
    {
     "data": {
      "image/png": "[encoded data removed]",
      "text/plain": [
       "<Figure size 432x288 with 2 Axes>"
      ]
     },
     "metadata": {
      "needs_background": "light"
     },
     "output_type": "display_data"
    }
   ],
   "source": [
    "fig, ax1 = plt.subplots()\n",
    "\n",
    "color_tr = 'tab:green'\n",
    "color_val = 'tab:blue'\n",
    "ax1.set_xlabel(\"Step (x100)\")\n",
    "ax1.set_ylabel(\"Accuracy (train - green, validation - blue)\")\n",
    "ax1.plot(range(len(accuracy_train)), accuracy_train, color=color_tr)\n",
    "ax1.plot(range(len(accuracy_test)), accuracy_test, color=color_val)\n",
    "ax1.tick_params(axis='y')\n",
    "\n",
    "ax2 = ax1.twinx()  # instantiate a second axes that shares the same x-axis\n",
    "\n",
    "color_loss = 'tab:red'\n",
    "ax2.set_ylabel(\"Loss\", color=color_loss)  # we already handled the x-label with ax1\n",
    "ax2.plot(range(len(losses)), losses, color=color_loss)\n",
    "ax2.tick_params(axis='y', labelcolor=color_loss)\n",
    "\n",
    "fig.tight_layout()\n",
    "plt.grid()\n",
    "plt.show()"
   ]
  },
  {
   "cell_type": "code",
   "execution_count": null,
   "metadata": {},
   "outputs": [],
   "source": []
  },
  {
   "cell_type": "code",
   "execution_count": null,
   "metadata": {},
   "outputs": [],
   "source": []
  },
  {
   "cell_type": "markdown",
   "metadata": {},
   "source": [
    "## Experiments"
   ]
  },
  {
   "cell_type": "markdown",
   "metadata": {},
   "source": [
    "All the experiments should be done with 1, 000 pairs for training and test. A convnet with ∼ 70, 000\n",
    "parameters can be trained with 25 epochs in the VM in less than 2s and should achieve ∼ 15% error\n",
    "rate."
   ]
  },
  {
   "cell_type": "markdown",
   "metadata": {},
   "source": [
    "Performance estimates provided in your report should be estimated through 10+ rounds for each\n",
    "architecture, where both data and weight initialization are randomized, and you should provide estimates\n",
    "of standard deviations."
   ]
  },
  {
   "cell_type": "code",
   "execution_count": null,
   "metadata": {},
   "outputs": [],
   "source": []
  },
  {
   "cell_type": "code",
   "execution_count": null,
   "metadata": {},
   "outputs": [],
   "source": []
  },
  {
   "cell_type": "code",
   "execution_count": null,
   "metadata": {},
   "outputs": [],
   "source": []
  }
 ],
 "metadata": {
  "kernelspec": {
   "display_name": "Python 3",
   "language": "python",
   "name": "python3"
  },
  "language_info": {
   "codemirror_mode": {
    "name": "ipython",
    "version": 3
   },
   "file_extension": ".py",
   "mimetype": "text/x-python",
   "name": "python",
   "nbconvert_exporter": "python",
   "pygments_lexer": "ipython3",
   "version": "3.7.3"
  }
 },
 "nbformat": 4,
 "nbformat_minor": 2
}
